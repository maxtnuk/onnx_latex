{
 "cells": [
  {
   "cell_type": "code",
   "execution_count": 1,
   "metadata": {},
   "outputs": [],
   "source": [
    "import torch"
   ]
  },
  {
   "cell_type": "code",
   "execution_count": 2,
   "metadata": {},
   "outputs": [],
   "source": [
    "N, D_in, H, D_out = 64, 1000, 100, 10"
   ]
  },
  {
   "cell_type": "code",
   "execution_count": 4,
   "metadata": {},
   "outputs": [],
   "source": [
    "x = torch.randn(N, D_in)\n",
    "y = torch.randn(N, D_out)"
   ]
  },
  {
   "cell_type": "code",
   "execution_count": 2,
   "metadata": {},
   "outputs": [],
   "source": [
    "loss_fn = torch.nn.MSELoss(reduction='sum')\n",
    "\n",
    "learning_rate = 1e-4\n"
   ]
  },
  {
   "cell_type": "code",
   "execution_count": 12,
   "metadata": {},
   "outputs": [],
   "source": [
    "def learn_model(model):\n",
    "    for t in range(500):\n",
    "        y_pred = model(x)\n",
    "\n",
    "        loss = loss_fn(y_pred, y)\n",
    "        if t % 100 == 99:\n",
    "            print(t, loss.item())\n",
    "\n",
    "        model.zero_grad()\n",
    "        loss.backward()\n",
    "\n",
    "        # with torch.no_grad():\n",
    "        #     for param in model.parameters():\n",
    "        #         param -= learning_rate * param.grad"
   ]
  },
  {
   "cell_type": "code",
   "execution_count": 8,
   "metadata": {},
   "outputs": [
    {
     "name": "stdout",
     "output_type": "stream",
     "text": [
      "99 485.7818298339844\n",
      "199 411.0489501953125\n",
      "299 376.5496826171875\n",
      "399 360.073486328125\n",
      "499 351.3825378417969\n"
     ]
    }
   ],
   "source": [
    "model = torch.nn.Sequential(\n",
    "    torch.nn.Linear(D_in, H),\n",
    "    torch.nn.ReLU(),\n",
    "    torch.nn.Linear(H, D_out),\n",
    "    torch.nn.Sigmoid(),\n",
    ")\n",
    "learn_model(model)\n",
    "torch.onnx.export(model, x, \"./test_models/l2s.onnx\")"
   ]
  },
  {
   "cell_type": "code",
   "execution_count": 10,
   "metadata": {},
   "outputs": [
    {
     "name": "stdout",
     "output_type": "stream",
     "text": [
      "99 595.2242431640625\n",
      "199 585.9874267578125\n",
      "299 582.70751953125\n",
      "399 580.6626586914062\n",
      "499 578.9527587890625\n"
     ]
    }
   ],
   "source": [
    "model3 = torch.nn.Sequential(\n",
    "    torch.nn.Linear(D_in, H),\n",
    "    torch.nn.ReLU(),\n",
    "    torch.nn.Linear(H,H),\n",
    "    torch.nn.Sigmoid(),\n",
    "    torch.nn.Linear(H, D_out),\n",
    "    torch.nn.Sigmoid(),\n",
    "    \n",
    ")\n",
    "learn_model(model3)\n",
    "torch.onnx.export(model3, x, \"./test_models/l3s.onnx\")"
   ]
  },
  {
   "cell_type": "code",
   "execution_count": 13,
   "metadata": {},
   "outputs": [
    {
     "name": "stdout",
     "output_type": "stream",
     "text": [
      "99 10158.07421875\n",
      "199 9717.404296875\n",
      "299 9986.408203125\n",
      "399 9830.5224609375\n",
      "499 9897.017578125\n"
     ]
    }
   ],
   "source": [
    "modelcnn = torch.nn.Sequential(\n",
    "    torch.nn.Conv2d(1, 32, 3, 1),\n",
    "    torch.nn.Sigmoid(),\n",
    "    torch.nn.Conv2d(32, 64, 3, 1),\n",
    "    torch.nn.ReLU()\n",
    ")\n",
    "x = torch.rand((1, 1, 28, 28))\n",
    "y = torch.rand((1, 64, 24, 24))\n",
    "learn_model(modelcnn)\n",
    "torch.onnx.export(modelcnn, x, \"./test_models/lcnn.onnx\")"
   ]
  },
  {
   "cell_type": "code",
   "execution_count": 14,
   "metadata": {},
   "outputs": [],
   "source": [
    "import torchvision"
   ]
  },
  {
   "cell_type": "markdown",
   "metadata": {},
   "source": []
  },
  {
   "cell_type": "code",
   "execution_count": 16,
   "metadata": {},
   "outputs": [],
   "source": [
    "import torchvision.models as models\n",
    "vgg11 = models.vgg11()"
   ]
  },
  {
   "cell_type": "code",
   "execution_count": 29,
   "metadata": {},
   "outputs": [],
   "source": [
    "x=torch.rand((32, 3,224,224))\n",
    "torch.onnx.export(vgg11, x, \"./test_models/lvgg.onnx\")"
   ]
  },
  {
   "cell_type": "code",
   "execution_count": 9,
   "metadata": {},
   "outputs": [],
   "source": []
  },
  {
   "cell_type": "code",
   "execution_count": null,
   "metadata": {},
   "outputs": [],
   "source": []
  }
 ],
 "metadata": {
  "kernelspec": {
   "display_name": "Python 3.9.2 64-bit ('py39': conda)",
   "name": "python392jvsc74a57bd0239935d41b0369a4d280c769f1ff602814e7563a154297a5ec806f916e7880df"
  },
  "language_info": {
   "codemirror_mode": {
    "name": "ipython",
    "version": 3
   },
   "file_extension": ".py",
   "mimetype": "text/x-python",
   "name": "python",
   "nbconvert_exporter": "python",
   "pygments_lexer": "ipython3",
   "version": "3.9.2"
  },
  "metadata": {
   "interpreter": {
    "hash": "239935d41b0369a4d280c769f1ff602814e7563a154297a5ec806f916e7880df"
   }
  },
  "orig_nbformat": 2
 },
 "nbformat": 4,
 "nbformat_minor": 2
}